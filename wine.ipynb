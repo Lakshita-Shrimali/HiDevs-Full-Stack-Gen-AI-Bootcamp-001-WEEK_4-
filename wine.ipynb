{
 "cells": [
  {
   "cell_type": "code",
   "execution_count": 1,
   "id": "94589aed-3f72-41e7-9f20-b9622829e65e",
   "metadata": {},
   "outputs": [],
   "source": [
    "import pandas as pd\n",
    "import numpy as np\n",
    "import matplotlib.pyplot as plt"
   ]
  },
  {
   "cell_type": "code",
   "execution_count": null,
   "id": "f04f470c-bdc2-42ea-873d-ae6ef7ba36bf",
   "metadata": {},
   "outputs": [],
   "source": [
    "df = pd.read_csv('WineQT.csv')\n",
    "df.head()"
   ]
  },
  {
   "cell_type": "code",
   "execution_count": 4,
   "id": "36d2c619-5a87-45ad-b52e-84d7dce91e3e",
   "metadata": {},
   "outputs": [],
   "source": [
    "mean_fixed_acidity = np.mean(df['fixed acidity'])    #Calculate the mean\n",
    "median_fixed_acidity = np.median(df['fixed acidity'])   #Calculate the median\n",
    "std_dev_fixed_acidity = np.std(df['fixed acidity'])     #Calculate the standard deviation\n",
    "\n",
    "\n",
    "matrix_a = np.array([[1, 2], [3, 4]])\n",
    "matrix_b = np.array([[5, 6], [7, 8]])\n",
    "result = np.dot(matrix_a, matrix_b)   #matrix multiplication using np.dot() function"
   ]
  },
  {
   "cell_type": "code",
   "execution_count": null,
   "id": "8c303793-8536-4628-8be1-81b3868aac81",
   "metadata": {},
   "outputs": [],
   "source": [
    "plt.plot(df['fixed acidity'], df['volatile acidity'], 'bo')\n",
    "plt.xlabel('Fixed Acidity')\n",
    "plt.ylabel('Volatile Acidity')\n",
    "plt.title('Fixed Acidity vs Volatile Acidity')\n",
    "plt.show()"
   ]
  },
  {
   "cell_type": "code",
   "execution_count": null,
   "id": "6bbbde1d-d358-4d32-abdc-7493034d7e13",
   "metadata": {},
   "outputs": [],
   "source": []
  }
 ],
 "metadata": {
  "kernelspec": {
   "display_name": "Python 3 (ipykernel)",
   "language": "python",
   "name": "python3"
  },
  "language_info": {
   "codemirror_mode": {
    "name": "ipython",
    "version": 3
   },
   "file_extension": ".py",
   "mimetype": "text/x-python",
   "name": "python",
   "nbconvert_exporter": "python",
   "pygments_lexer": "ipython3",
   "version": "3.11.7"
  }
 },
 "nbformat": 4,
 "nbformat_minor": 5
}
